{
  "nbformat": 4,
  "nbformat_minor": 0,
  "metadata": {
    "colab": {
      "name": "appliedDS-capstone-notebook.ipynb",
      "provenance": [],
      "collapsed_sections": [],
      "authorship_tag": "ABX9TyMUFC78GkdV25oaeFFt3NOm",
      "include_colab_link": true
    },
    "kernelspec": {
      "name": "python3",
      "display_name": "Python 3"
    },
    "language_info": {
      "name": "python"
    }
  },
  "cells": [
    {
      "cell_type": "markdown",
      "metadata": {
        "id": "view-in-github",
        "colab_type": "text"
      },
      "source": [
        "<a href=\"https://colab.research.google.com/github/DataGF/Coursera_Capstone/blob/main/appliedDS_capstone_notebook.ipynb\" target=\"_parent\"><img src=\"https://colab.research.google.com/assets/colab-badge.svg\" alt=\"Open In Colab\"/></a>"
      ]
    },
    {
      "cell_type": "markdown",
      "metadata": {
        "id": "VHKOK1aYoIk_"
      },
      "source": [
        "![](https://d3njjcbhbojbot.cloudfront.net/api/utilities/v1/imageproxy/http://coursera-university-assets.s3.amazonaws.com/d9/0d7c51354a48d2af08be185b6dcbc2/IBM-Logo-White.png?auto=format%2Ccompress&dpr=1&h=70)"
      ]
    },
    {
      "cell_type": "markdown",
      "metadata": {
        "id": "qtde7E_9n8g3"
      },
      "source": [
        "# Applied Data Science Capstone"
      ]
    },
    {
      "cell_type": "markdown",
      "metadata": {
        "id": "70IQsftKovkP"
      },
      "source": [
        "## This notebook will be mainly used for the IBM Data Science capstone project"
      ]
    },
    {
      "cell_type": "code",
      "metadata": {
        "id": "qJgxAFaDn6Ly"
      },
      "source": [
        "# import pandas and numpy libraries\n",
        "\n",
        "import pandas as pd\n",
        "import numpy as np\n"
      ],
      "execution_count": 1,
      "outputs": []
    },
    {
      "cell_type": "code",
      "metadata": {
        "colab": {
          "base_uri": "https://localhost:8080/"
        },
        "id": "c_S1cnHapPLv",
        "outputId": "7ee9040c-367e-4b90-e509-c1b2470e02e2"
      },
      "source": [
        "# print a message\n",
        "\n",
        "print('Hello Capstone Project Course!')\n"
      ],
      "execution_count": 2,
      "outputs": [
        {
          "output_type": "stream",
          "text": [
            "Hello Capstone Project Course!\n"
          ],
          "name": "stdout"
        }
      ]
    }
  ]
}